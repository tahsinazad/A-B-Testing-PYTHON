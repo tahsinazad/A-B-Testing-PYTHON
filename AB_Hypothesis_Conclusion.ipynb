{
 "cells": [
  {
   "cell_type": "markdown",
   "id": "11fa996e",
   "metadata": {},
   "source": [
    "# Conclusion"
   ]
  },
  {
   "cell_type": "markdown",
   "id": "9b17cb36",
   "metadata": {},
   "source": [
    "#### P-Value: \n",
    "Our P-value came out to be 0.866. Using a P-Value Cutoff of 0.05 (5%), this is much larger and therefore\n",
    "it is not statistically significant. This means we fail to reject the null hypothesis. This means that the statement\n",
    "\"The age distribution of those who survived is lower, on average, than those who died on the titanic\" may be true.\n",
    "\n",
    "#### Histogram:\n",
    "The first histogram is shown to be relatively uniformly distributed. \n",
    "\n",
    "#### Permutation Histogram: \n",
    "The second histogram clearly shows the test statistic is not in the rejection region and therefore \n",
    "we fail to reject the null, so it may be true that the age distribution of those who survived on the titanic on average is \n",
    "lower than those who died on the titanic."
   ]
  }
 ],
 "metadata": {
  "kernelspec": {
   "display_name": "Python 3 (ipykernel)",
   "language": "python",
   "name": "python3"
  },
  "language_info": {
   "codemirror_mode": {
    "name": "ipython",
    "version": 3
   },
   "file_extension": ".py",
   "mimetype": "text/x-python",
   "name": "python",
   "nbconvert_exporter": "python",
   "pygments_lexer": "ipython3",
   "version": "3.9.7"
  }
 },
 "nbformat": 4,
 "nbformat_minor": 5
}
