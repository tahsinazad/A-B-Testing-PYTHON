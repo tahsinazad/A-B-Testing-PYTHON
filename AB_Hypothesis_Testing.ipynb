{
 "cells": [
  {
   "cell_type": "markdown",
   "id": "87f8b3a5",
   "metadata": {},
   "source": [
    "# Intro"
   ]
  },
  {
   "cell_type": "markdown",
   "id": "00dbce32",
   "metadata": {},
   "source": [
    "Goal: Study the dataset and conduct a A/B hypothesis test \n",
    "In this project, I will conduct a short A/B hypothesis test using using the Numpy module and Data8 in Python. Matplotlib is used loosely. First, I opened the dataset and studied it until I came up with a hypothesis test, which I accomplished.\n",
    "\n",
    "The data set I will use is the titanic [data set](https://www.kaggle.com/competitions/titanic-dataset)\n",
    "\n",
    "[Link to Conclusion](#Conclusion)"
   ]
  },
  {
   "cell_type": "code",
   "execution_count": 20,
   "id": "d502c001",
   "metadata": {},
   "outputs": [],
   "source": [
    "import numpy as np\n",
    "%matplotlib inline\n",
    "import matplotlib.pyplot as plt\n",
    "from datascience import *"
   ]
  },
  {
   "cell_type": "markdown",
   "id": "8efe7501",
   "metadata": {},
   "source": [
    "## Tables and Functions"
   ]
  },
  {
   "cell_type": "code",
   "execution_count": 21,
   "id": "043fc2c9",
   "metadata": {},
   "outputs": [
    {
     "data": {
      "text/html": [
       "<table border=\"1\" class=\"dataframe\">\n",
       "    <thead>\n",
       "        <tr>\n",
       "            <th>passenger_id</th> <th>pclass</th> <th>name</th> <th>sex</th> <th>age</th> <th>sibsp</th> <th>parch</th> <th>ticket</th> <th>fare</th> <th>cabin</th> <th>embarked</th> <th>boat</th> <th>body</th> <th>home.dest</th> <th>survived</th>\n",
       "        </tr>\n",
       "    </thead>\n",
       "    <tbody>\n",
       "        <tr>\n",
       "            <td>1216        </td> <td>3     </td> <td>Smyth, Miss. Julia                                  </td> <td>female</td> <td>nan </td> <td>0    </td> <td>0    </td> <td>335432</td> <td>7.7333</td> <td>nan  </td> <td>Q       </td> <td>13  </td> <td>nan </td> <td>nan                     </td> <td>1       </td>\n",
       "        </tr>\n",
       "        <tr>\n",
       "            <td>699         </td> <td>3     </td> <td>Cacic, Mr. Luka                                     </td> <td>male  </td> <td>38  </td> <td>0    </td> <td>0    </td> <td>315089</td> <td>8.6625</td> <td>nan  </td> <td>S       </td> <td>nan </td> <td>nan </td> <td>Croatia                 </td> <td>0       </td>\n",
       "        </tr>\n",
       "        <tr>\n",
       "            <td>1267        </td> <td>3     </td> <td>Van Impe, Mrs. Jean Baptiste (Rosalie Paula Govaert)</td> <td>female</td> <td>30  </td> <td>1    </td> <td>1    </td> <td>345773</td> <td>24.15 </td> <td>nan  </td> <td>S       </td> <td>nan </td> <td>nan </td> <td>nan                     </td> <td>0       </td>\n",
       "        </tr>\n",
       "        <tr>\n",
       "            <td>449         </td> <td>2     </td> <td>Hocking, Mrs. Elizabeth (Eliza Needs)               </td> <td>female</td> <td>54  </td> <td>1    </td> <td>3    </td> <td>29105 </td> <td>23    </td> <td>nan  </td> <td>S       </td> <td>4   </td> <td>nan </td> <td>Cornwall / Akron, OH    </td> <td>1       </td>\n",
       "        </tr>\n",
       "        <tr>\n",
       "            <td>576         </td> <td>2     </td> <td>Veal, Mr. James                                     </td> <td>male  </td> <td>40  </td> <td>0    </td> <td>0    </td> <td>28221 </td> <td>13    </td> <td>nan  </td> <td>S       </td> <td>nan </td> <td>nan </td> <td>Barre, Co Washington, VT</td> <td>0       </td>\n",
       "        </tr>\n",
       "        <tr>\n",
       "            <td>1083        </td> <td>3     </td> <td>Olsen, Mr. Henry Margido                            </td> <td>male  </td> <td>28  </td> <td>0    </td> <td>0    </td> <td>C 4001</td> <td>22.525</td> <td>nan  </td> <td>S       </td> <td>nan </td> <td>173 </td> <td>nan                     </td> <td>0       </td>\n",
       "        </tr>\n",
       "        <tr>\n",
       "            <td>898         </td> <td>3     </td> <td>Johnson, Mr. William Cahoone Jr                     </td> <td>male  </td> <td>19  </td> <td>0    </td> <td>0    </td> <td>LINE  </td> <td>0     </td> <td>nan  </td> <td>S       </td> <td>nan </td> <td>nan </td> <td>nan                     </td> <td>0       </td>\n",
       "        </tr>\n",
       "        <tr>\n",
       "            <td>560         </td> <td>2     </td> <td>Sinkkonen, Miss. Anna                               </td> <td>female</td> <td>30  </td> <td>0    </td> <td>0    </td> <td>250648</td> <td>13    </td> <td>nan  </td> <td>S       </td> <td>10  </td> <td>nan </td> <td>Finland / Washington, DC</td> <td>1       </td>\n",
       "        </tr>\n",
       "        <tr>\n",
       "            <td>1079        </td> <td>3     </td> <td>Ohman, Miss. Velin                                  </td> <td>female</td> <td>22  </td> <td>0    </td> <td>0    </td> <td>347085</td> <td>7.775 </td> <td>nan  </td> <td>S       </td> <td>C   </td> <td>nan </td> <td>nan                     </td> <td>1       </td>\n",
       "        </tr>\n",
       "        <tr>\n",
       "            <td>908         </td> <td>3     </td> <td>Jussila, Miss. Mari Aina                            </td> <td>female</td> <td>21  </td> <td>1    </td> <td>0    </td> <td>4137  </td> <td>9.825 </td> <td>nan  </td> <td>S       </td> <td>nan </td> <td>nan </td> <td>nan                     </td> <td>0       </td>\n",
       "        </tr>\n",
       "    </tbody>\n",
       "</table>\n",
       "<p>... (840 rows omitted)</p>"
      ],
      "text/plain": [
       "passenger_id | pclass | name                                                 | sex    | age  | sibsp | parch | ticket | fare   | cabin | embarked | boat | body | home.dest                | survived\n",
       "1216         | 3      | Smyth, Miss. Julia                                   | female | nan  | 0     | 0     | 335432 | 7.7333 | nan   | Q        | 13   | nan  | nan                      | 1\n",
       "699          | 3      | Cacic, Mr. Luka                                      | male   | 38   | 0     | 0     | 315089 | 8.6625 | nan   | S        | nan  | nan  | Croatia                  | 0\n",
       "1267         | 3      | Van Impe, Mrs. Jean Baptiste (Rosalie Paula Govaert) | female | 30   | 1     | 1     | 345773 | 24.15  | nan   | S        | nan  | nan  | nan                      | 0\n",
       "449          | 2      | Hocking, Mrs. Elizabeth (Eliza Needs)                | female | 54   | 1     | 3     | 29105  | 23     | nan   | S        | 4    | nan  | Cornwall / Akron, OH     | 1\n",
       "576          | 2      | Veal, Mr. James                                      | male   | 40   | 0     | 0     | 28221  | 13     | nan   | S        | nan  | nan  | Barre, Co Washington, VT | 0\n",
       "1083         | 3      | Olsen, Mr. Henry Margido                             | male   | 28   | 0     | 0     | C 4001 | 22.525 | nan   | S        | nan  | 173  | nan                      | 0\n",
       "898          | 3      | Johnson, Mr. William Cahoone Jr                      | male   | 19   | 0     | 0     | LINE   | 0      | nan   | S        | nan  | nan  | nan                      | 0\n",
       "560          | 2      | Sinkkonen, Miss. Anna                                | female | 30   | 0     | 0     | 250648 | 13     | nan   | S        | 10   | nan  | Finland / Washington, DC | 1\n",
       "1079         | 3      | Ohman, Miss. Velin                                   | female | 22   | 0     | 0     | 347085 | 7.775  | nan   | S        | C    | nan  | nan                      | 1\n",
       "908          | 3      | Jussila, Miss. Mari Aina                             | female | 21   | 1     | 0     | 4137   | 9.825  | nan   | S        | nan  | nan  | nan                      | 0\n",
       "... (840 rows omitted)"
      ]
     },
     "execution_count": 21,
     "metadata": {},
     "output_type": "execute_result"
    }
   ],
   "source": [
    "#Below is the data that  will be used\n",
    "titanic=Table.read_table('titanic_train.csv')\n",
    "titanic"
   ]
  },
  {
   "cell_type": "code",
   "execution_count": 22,
   "id": "255b781c",
   "metadata": {},
   "outputs": [
    {
     "data": {
      "text/html": [
       "<table border=\"1\" class=\"dataframe\">\n",
       "    <thead>\n",
       "        <tr>\n",
       "            <th>passenger_id</th> <th>pclass</th> <th>name</th> <th>sex</th> <th>age</th> <th>sibsp</th> <th>parch</th> <th>ticket</th> <th>fare</th> <th>cabin</th> <th>embarked</th> <th>boat</th> <th>body</th> <th>home.dest</th> <th>survived</th>\n",
       "        </tr>\n",
       "    </thead>\n",
       "    <tbody>\n",
       "        <tr>\n",
       "            <td>1216        </td> <td>3     </td> <td>Smyth, Miss. Julia                             </td> <td>female</td> <td>nan </td> <td>0    </td> <td>0    </td> <td>335432</td> <td>7.7333 </td> <td>nan  </td> <td>Q       </td> <td>13  </td> <td>nan </td> <td>nan                             </td> <td>1       </td>\n",
       "        </tr>\n",
       "        <tr>\n",
       "            <td>449         </td> <td>2     </td> <td>Hocking, Mrs. Elizabeth (Eliza Needs)          </td> <td>female</td> <td>54  </td> <td>1    </td> <td>3    </td> <td>29105 </td> <td>23     </td> <td>nan  </td> <td>S       </td> <td>4   </td> <td>nan </td> <td>Cornwall / Akron, OH            </td> <td>1       </td>\n",
       "        </tr>\n",
       "        <tr>\n",
       "            <td>560         </td> <td>2     </td> <td>Sinkkonen, Miss. Anna                          </td> <td>female</td> <td>30  </td> <td>0    </td> <td>0    </td> <td>250648</td> <td>13     </td> <td>nan  </td> <td>S       </td> <td>10  </td> <td>nan </td> <td>Finland / Washington, DC        </td> <td>1       </td>\n",
       "        </tr>\n",
       "        <tr>\n",
       "            <td>1079        </td> <td>3     </td> <td>Ohman, Miss. Velin                             </td> <td>female</td> <td>22  </td> <td>0    </td> <td>0    </td> <td>347085</td> <td>7.775  </td> <td>nan  </td> <td>S       </td> <td>C   </td> <td>nan </td> <td>nan                             </td> <td>1       </td>\n",
       "        </tr>\n",
       "        <tr>\n",
       "            <td>43          </td> <td>1     </td> <td>Bucknell, Mrs. William Robert (Emma Eliza Ward)</td> <td>female</td> <td>60  </td> <td>0    </td> <td>0    </td> <td>11813 </td> <td>76.2917</td> <td>D15  </td> <td>C       </td> <td>8   </td> <td>nan </td> <td>Philadelphia, PA                </td> <td>1       </td>\n",
       "        </tr>\n",
       "        <tr>\n",
       "            <td>233         </td> <td>1     </td> <td>Potter, Mrs. Thomas Jr (Lily Alexenia Wilson)  </td> <td>female</td> <td>56  </td> <td>0    </td> <td>1    </td> <td>11767 </td> <td>83.1583</td> <td>C50  </td> <td>C       </td> <td>7   </td> <td>nan </td> <td>Mt Airy, Philadelphia, PA       </td> <td>1       </td>\n",
       "        </tr>\n",
       "        <tr>\n",
       "            <td>446         </td> <td>2     </td> <td>Hocking, Miss. Ellen \"Nellie\"                  </td> <td>female</td> <td>20  </td> <td>2    </td> <td>1    </td> <td>29105 </td> <td>23     </td> <td>nan  </td> <td>S       </td> <td>4   </td> <td>nan </td> <td>Cornwall / Akron, OH            </td> <td>1       </td>\n",
       "        </tr>\n",
       "        <tr>\n",
       "            <td>1003        </td> <td>3     </td> <td>McCoy, Mr. Bernard                             </td> <td>male  </td> <td>nan </td> <td>2    </td> <td>0    </td> <td>367226</td> <td>23.25  </td> <td>nan  </td> <td>Q       </td> <td>16  </td> <td>nan </td> <td>nan                             </td> <td>1       </td>\n",
       "        </tr>\n",
       "        <tr>\n",
       "            <td>36          </td> <td>1     </td> <td>Bowerman, Miss. Elsie Edith                    </td> <td>female</td> <td>22  </td> <td>0    </td> <td>1    </td> <td>113505</td> <td>55     </td> <td>E33  </td> <td>S       </td> <td>6   </td> <td>nan </td> <td>St Leonards-on-Sea, England Ohio</td> <td>1       </td>\n",
       "        </tr>\n",
       "        <tr>\n",
       "            <td>1088        </td> <td>3     </td> <td>Olsson, Mr. Oscar Wilhelm                      </td> <td>male  </td> <td>32  </td> <td>0    </td> <td>0    </td> <td>347079</td> <td>7.775  </td> <td>nan  </td> <td>S       </td> <td>A   </td> <td>nan </td> <td>nan                             </td> <td>1       </td>\n",
       "        </tr>\n",
       "    </tbody>\n",
       "</table>\n",
       "<p>... (303 rows omitted)</p>"
      ],
      "text/plain": [
       "passenger_id | pclass | name                                            | sex    | age  | sibsp | parch | ticket | fare    | cabin | embarked | boat | body | home.dest                        | survived\n",
       "1216         | 3      | Smyth, Miss. Julia                              | female | nan  | 0     | 0     | 335432 | 7.7333  | nan   | Q        | 13   | nan  | nan                              | 1\n",
       "449          | 2      | Hocking, Mrs. Elizabeth (Eliza Needs)           | female | 54   | 1     | 3     | 29105  | 23      | nan   | S        | 4    | nan  | Cornwall / Akron, OH             | 1\n",
       "560          | 2      | Sinkkonen, Miss. Anna                           | female | 30   | 0     | 0     | 250648 | 13      | nan   | S        | 10   | nan  | Finland / Washington, DC         | 1\n",
       "1079         | 3      | Ohman, Miss. Velin                              | female | 22   | 0     | 0     | 347085 | 7.775   | nan   | S        | C    | nan  | nan                              | 1\n",
       "43           | 1      | Bucknell, Mrs. William Robert (Emma Eliza Ward) | female | 60   | 0     | 0     | 11813  | 76.2917 | D15   | C        | 8    | nan  | Philadelphia, PA                 | 1\n",
       "233          | 1      | Potter, Mrs. Thomas Jr (Lily Alexenia Wilson)   | female | 56   | 0     | 1     | 11767  | 83.1583 | C50   | C        | 7    | nan  | Mt Airy, Philadelphia, PA        | 1\n",
       "446          | 2      | Hocking, Miss. Ellen \"Nellie\"                   | female | 20   | 2     | 1     | 29105  | 23      | nan   | S        | 4    | nan  | Cornwall / Akron, OH             | 1\n",
       "1003         | 3      | McCoy, Mr. Bernard                              | male   | nan  | 2     | 0     | 367226 | 23.25   | nan   | Q        | 16   | nan  | nan                              | 1\n",
       "36           | 1      | Bowerman, Miss. Elsie Edith                     | female | 22   | 0     | 1     | 113505 | 55      | E33   | S        | 6    | nan  | St Leonards-on-Sea, England Ohio | 1\n",
       "1088         | 3      | Olsson, Mr. Oscar Wilhelm                       | male   | 32   | 0     | 0     | 347079 | 7.775   | nan   | S        | A    | nan  | nan                              | 1\n",
       "... (303 rows omitted)"
      ]
     },
     "execution_count": 22,
     "metadata": {},
     "output_type": "execute_result"
    }
   ],
   "source": [
    "#For this project, my interest was in the ages of the titanic passengers, both alive and dead\n",
    "#I set another table for those that survived\n",
    "survive=titanic.where('survived',1)\n",
    "survive"
   ]
  },
  {
   "cell_type": "code",
   "execution_count": 23,
   "id": "3740031f",
   "metadata": {},
   "outputs": [],
   "source": [
    "#I decided to see the survival rate by age, using a function. This function has two inputs and returns the survival rate\n",
    "#between these two ages\n",
    "def survive_age(num1,num2):\n",
    "    \n",
    "    \"Returns the survival rate between two values chosen. For example, if ages 0 and 4 are chosen, it will provide\"\n",
    "    \"the survival rate of people ages 0 to 4, but not including 4.\"\n",
    "    \n",
    "    agerange=survive.where('age',are.between(num1,num2)).num_rows\n",
    "    agerange_surv=titanic.where('age',are.between(num1,num2)).num_rows\n",
    "    try: \n",
    "        return (agerange/agerange_surv)*100 \n",
    "    except ZeroDivisionError: \n",
    "        return 0 "
   ]
  },
  {
   "cell_type": "code",
   "execution_count": 28,
   "id": "b663a0d1",
   "metadata": {},
   "outputs": [
    {
     "data": {
      "text/html": [
       "<table border=\"1\" class=\"dataframe\">\n",
       "    <thead>\n",
       "        <tr>\n",
       "            <th>From Age</th> <th>Survival Percent</th>\n",
       "        </tr>\n",
       "    </thead>\n",
       "    <tbody>\n",
       "        <tr>\n",
       "            <td>0       </td> <td>62.8571         </td>\n",
       "        </tr>\n",
       "        <tr>\n",
       "            <td>5       </td> <td>61.9048         </td>\n",
       "        </tr>\n",
       "        <tr>\n",
       "            <td>10      </td> <td>42.8571         </td>\n",
       "        </tr>\n",
       "        <tr>\n",
       "            <td>15      </td> <td>33.3333         </td>\n",
       "        </tr>\n",
       "        <tr>\n",
       "            <td>20      </td> <td>35.0877         </td>\n",
       "        </tr>\n",
       "        <tr>\n",
       "            <td>25      </td> <td>30.1887         </td>\n",
       "        </tr>\n",
       "        <tr>\n",
       "            <td>30      </td> <td>43.1818         </td>\n",
       "        </tr>\n",
       "        <tr>\n",
       "            <td>35      </td> <td>46.875          </td>\n",
       "        </tr>\n",
       "        <tr>\n",
       "            <td>40      </td> <td>22.8571         </td>\n",
       "        </tr>\n",
       "        <tr>\n",
       "            <td>45      </td> <td>43.2432         </td>\n",
       "        </tr>\n",
       "        <tr>\n",
       "            <td>50      </td> <td>54.8387         </td>\n",
       "        </tr>\n",
       "        <tr>\n",
       "            <td>55      </td> <td>42.8571         </td>\n",
       "        </tr>\n",
       "        <tr>\n",
       "            <td>60      </td> <td>23.5294         </td>\n",
       "        </tr>\n",
       "        <tr>\n",
       "            <td>65      </td> <td>0               </td>\n",
       "        </tr>\n",
       "        <tr>\n",
       "            <td>70      </td> <td>0               </td>\n",
       "        </tr>\n",
       "        <tr>\n",
       "            <td>75      </td> <td>100             </td>\n",
       "        </tr>\n",
       "        <tr>\n",
       "            <td>80      </td> <td>100             </td>\n",
       "        </tr>\n",
       "    </tbody>\n",
       "</table>"
      ],
      "text/plain": [
       "<IPython.core.display.HTML object>"
      ]
     },
     "metadata": {},
     "output_type": "display_data"
    }
   ],
   "source": [
    "#I made a table using this and a couple of ranges to see the survival rate. The ages will be incremented by 5\n",
    "zero_to_seventyfive=np.arange(0,81,5)\n",
    "five_to_eightyone=np.arange(5,86,5)\n",
    "agerangelist=list(map(survive_age,zero_to_seventyfive,five_to_eightyone))\n",
    "agesurvive=Table().with_columns('From Age',np.arange(0,85,5),'Survival Percent',agerangelist).show(20)\n",
    "agesurvive\n",
    "\n",
    "#The table below shows the start of the range. For example, the first row starts at 0 and goes all the way to \n",
    "#the next row, 5. Basically, it is the survival percent from 0 to <5 (i.e. 4.9999999)"
   ]
  },
  {
   "cell_type": "markdown",
   "id": "c264a0fd",
   "metadata": {},
   "source": [
    "## Graphs"
   ]
  },
  {
   "cell_type": "code",
   "execution_count": 29,
   "id": "d4f28eec",
   "metadata": {},
   "outputs": [
    {
     "data": {
      "text/plain": [
       "[<matplotlib.lines.Line2D at 0x262930f86d0>]"
      ]
     },
     "execution_count": 29,
     "metadata": {},
     "output_type": "execute_result"
    },
    {
     "data": {
      "image/png": "[encoded data removed]",
      "text/plain": [
       "<Figure size 432x288 with 1 Axes>"
      ]
     },
     "metadata": {
      "needs_background": "light"
     },
     "output_type": "display_data"
    }
   ],
   "source": [
    "#Line graph\n",
    "plt.plot(agerangelist)"
   ]
  },
  {
   "cell_type": "code",
   "execution_count": 30,
   "id": "ec8591b6",
   "metadata": {},
   "outputs": [
    {
     "data": {
      "text/plain": [
       "<BarContainer object of 17 artists>"
      ]
     },
     "execution_count": 30,
     "metadata": {},
     "output_type": "execute_result"
    },
    {
     "data": {
      "image/png": "[encoded data removed]",
      "text/plain": [
       "<Figure size 432x288 with 1 Axes>"
      ]
     },
     "metadata": {
      "needs_background": "light"
     },
     "output_type": "display_data"
    }
   ],
   "source": [
    "#Bar graph\n",
    "plt.bar(np.arange(0,85,5),agerangelist)"
   ]
  },
  {
   "cell_type": "markdown",
   "id": "ca8ed496",
   "metadata": {},
   "source": [
    "## Notes "
   ]
  },
  {
   "cell_type": "markdown",
   "id": "138c2978",
   "metadata": {},
   "source": [
    "I think checking the survival rate based on one's age is a poor way to check. For example, we are told that a person who is 80 years old to 85 years old has a 100% chance of survival. However, were we to look at the dataset, we see there is \n",
    "only one person who is in that age range. I don't think its fair now to assume that had there been twenty 80 year olds,\n",
    "given the 100% chance survival rate, all of them would survive. Hence, this is ignored."
   ]
  },
  {
   "cell_type": "markdown",
   "id": "f6b537b7",
   "metadata": {},
   "source": [
    "Nonetheless, I wanted to study the ages and so I continued"
   ]
  },
  {
   "cell_type": "markdown",
   "id": "4d3c209c",
   "metadata": {},
   "source": [
    "## Continuation "
   ]
  },
  {
   "cell_type": "code",
   "execution_count": 36,
   "id": "33a5e2a0",
   "metadata": {},
   "outputs": [
    {
     "data": {
      "text/html": [
       "<table border=\"1\" class=\"dataframe\">\n",
       "    <thead>\n",
       "        <tr>\n",
       "            <th>survived</th> <th>age average</th>\n",
       "        </tr>\n",
       "    </thead>\n",
       "    <tbody>\n",
       "        <tr>\n",
       "            <td>0       </td> <td>30.0201    </td>\n",
       "        </tr>\n",
       "        <tr>\n",
       "            <td>1       </td> <td>28.7487    </td>\n",
       "        </tr>\n",
       "    </tbody>\n",
       "</table>"
      ],
      "text/plain": [
       "survived | age average\n",
       "0        | 30.0201\n",
       "1        | 28.7487"
      ]
     },
     "execution_count": 36,
     "metadata": {},
     "output_type": "execute_result"
    }
   ],
   "source": [
    "#Still dealing with age, next I decided to look at the averages. Due to not all ages being recorded, we disregard these\n",
    "#and make a new table without these\n",
    "titanics=titanic.sort('age').take(np.arange(0,676,1))\n",
    "titanics_grouped=titanics.group('survived',np.average).select('survived','age average')\n",
    "titanics_grouped"
   ]
  },
  {
   "cell_type": "code",
   "execution_count": 41,
   "id": "c5c30b85",
   "metadata": {},
   "outputs": [],
   "source": [
    "# ignored a warning that I deemed unnecessary\n",
    "import warnings\n",
    "warnings.filterwarnings('ignore')"
   ]
  },
  {
   "cell_type": "code",
   "execution_count": 48,
   "id": "288cd7cb",
   "metadata": {},
   "outputs": [
    {
     "data": {
      "image/png": "[encoded data removed]",
      "text/plain": [
       "<Figure size 432x288 with 1 Axes>"
      ]
     },
     "metadata": {
      "needs_background": "light"
     },
     "output_type": "display_data"
    }
   ],
   "source": [
    "#Distribution of ages seems to be lower for those who survived\n",
    "titanics.hist('age', group = 'survived',)"
   ]
  },
  {
   "cell_type": "code",
   "execution_count": 49,
   "id": "3c99a7e0",
   "metadata": {},
   "outputs": [
    {
     "data": {
      "image/png": "[encoded data removed]",
      "text/plain": [
       "<Figure size 432x288 with 1 Axes>"
      ]
     },
     "metadata": {
      "needs_background": "light"
     },
     "output_type": "display_data"
    }
   ],
   "source": [
    "titanics_grouped.barh('survived','age average')"
   ]
  },
  {
   "cell_type": "markdown",
   "id": "fb330ca6",
   "metadata": {},
   "source": [
    "## Hypothesis"
   ]
  },
  {
   "cell_type": "markdown",
   "id": "585bf48e",
   "metadata": {},
   "source": [
    "It is clear that the average age of those that survived was lower than those who died, although this difference is very small\n",
    "Now I decided to use this information to conduct the following hypothesis:"
   ]
  },
  {
   "cell_type": "markdown",
   "id": "168e0919",
   "metadata": {},
   "source": [
    "#### Null Hypothesis:\n",
    "The age distribution of those who survived is lower, on average, than those who died on the titanic\n",
    "\n",
    "#### Alternative Hypothesis: \n",
    "The age distrubition being different is merely by chance. There is no difference between the averages\n",
    "\n",
    "#### Test Statistic: \n",
    "Difference between the average age of those who survived and those who died\n",
    "\n",
    "#### Method: \n",
    "A/B Testing, randomized controlled test"
   ]
  },
  {
   "cell_type": "code",
   "execution_count": 50,
   "id": "7f8ff3c1",
   "metadata": {},
   "outputs": [
    {
     "data": {
      "text/plain": [
       "-1.2713749587383099"
      ]
     },
     "execution_count": 50,
     "metadata": {},
     "output_type": "execute_result"
    }
   ],
   "source": [
    "#First: I defined a function that returns the test statistic given a table\n",
    "\n",
    "def tested(tbl):\n",
    "    groupedtbl=tbl.group('survived',np.average).select('survived','age average')\n",
    "    return (groupedtbl.column(1).item(1)-groupedtbl.column(1).item(0))\n",
    "tested(titanics)"
   ]
  },
  {
   "cell_type": "code",
   "execution_count": 51,
   "id": "2d8ee986",
   "metadata": {},
   "outputs": [],
   "source": [
    "test_stat=1.2713749587383099"
   ]
  },
  {
   "cell_type": "code",
   "execution_count": 52,
   "id": "5a4e2564",
   "metadata": {},
   "outputs": [
    {
     "data": {
      "text/plain": [
       "0.7937325197139202"
      ]
     },
     "execution_count": 52,
     "metadata": {},
     "output_type": "execute_result"
    }
   ],
   "source": [
    "#Next I defined a function that performs a random permutation. This is done because via the hypothesis, shuffling the ages \n",
    "# of the titanics table should result in those who survived having a lower age distribution than those who died.\n",
    "#This is done by sampling without replacement the survived column and shuffling the survived column, and then\n",
    "# getting the test statistic\n",
    "\n",
    "def permutation():\n",
    "    lbl=titanics.sample(with_replacement=False).column('survived')\n",
    "    lbltbl=titanics.with_column('shuffled',lbl).drop('survived')\n",
    "    final=lbltbl.relabeled('shuffled','survived')\n",
    "    return tested(final)\n",
    "permutation()"
   ]
  },
  {
   "cell_type": "code",
   "execution_count": 54,
   "id": "d7d14bfa",
   "metadata": {},
   "outputs": [
    {
     "data": {
      "text/plain": [
       "array([ 2.53497302, -0.10762106, -0.42942272, ..., -0.61434275,\n",
       "       -1.16703505,  0.32781815])"
      ]
     },
     "execution_count": 54,
     "metadata": {},
     "output_type": "execute_result"
    }
   ],
   "source": [
    "#Now we will simulate the above function 3,000 times to get as many results as possible\n",
    "\n",
    "titanic_array=np.array([])\n",
    "simulation=3000\n",
    "for i in np.arange(simulation):\n",
    "    titanic_array=np.append(titanic_array,permutation())\n",
    "titanic_array"
   ]
  },
  {
   "cell_type": "code",
   "execution_count": 55,
   "id": "9016f2ed",
   "metadata": {},
   "outputs": [
    {
     "data": {
      "text/plain": [
       "0.866"
      ]
     },
     "execution_count": 55,
     "metadata": {},
     "output_type": "execute_result"
    }
   ],
   "source": [
    "#Lastly we get the result to see if we were correct by finding our P-Value\n",
    "\n",
    "empvalue=np.count_nonzero(titanic_array <= test_stat) / simulation\n",
    "empvalue"
   ]
  },
  {
   "cell_type": "code",
   "execution_count": 56,
   "id": "7394edab",
   "metadata": {},
   "outputs": [
    {
     "data": {
      "image/png": "[encoded data removed]",
      "text/plain": [
       "<Figure size 432x288 with 1 Axes>"
      ]
     },
     "metadata": {
      "needs_background": "light"
     },
     "output_type": "display_data"
    }
   ],
   "source": [
    "#Histogram showing the distribution\n",
    "\n",
    "Table().with_columns('Simulated',titanic_array).hist()"
   ]
  },
  {
   "cell_type": "code",
   "execution_count": 57,
   "id": "05ae8d52",
   "metadata": {},
   "outputs": [
    {
     "data": {
      "text/plain": [
       "<matplotlib.collections.PathCollection at 0x262947ebaf0>"
      ]
     },
     "execution_count": 57,
     "metadata": {},
     "output_type": "execute_result"
    },
    {
     "data": {
      "image/png": "[encoded data removed]",
      "text/plain": [
       "<Figure size 432x288 with 1 Axes>"
      ]
     },
     "metadata": {
      "needs_background": "light"
     },
     "output_type": "display_data"
    }
   ],
   "source": [
    "#Prediction under the null with P-Value present\n",
    "\n",
    "Table().with_column('Differences',titanic_array).hist(left_end=test_stat) \n",
    "plt.scatter(test_stat,0,color='red',s=60,zorder=10)"
   ]
  },
  {
   "cell_type": "markdown",
   "id": "cc276f70",
   "metadata": {},
   "source": [
    "# Conclusion"
   ]
  },
  {
   "cell_type": "markdown",
   "id": "62ecbe4e",
   "metadata": {},
   "source": [
    "#### P-Value: \n",
    "Our P-value came out to be 0.866. Using a P-Value Cutoff of 0.05 (5%), this is much larger and therefore\n",
    "it is not statistically significant. This means we fail to reject the null hypothesis. This means that the statement\n",
    "\"The age distribution of those who survived is lower, on average, than those who died on the titanic\" may be true.\n",
    "\n",
    "#### Histogram:\n",
    "The first histogram is shown to be relatively uniformly distributed. \n",
    "\n",
    "#### Permutation Histogram: \n",
    "The second histogram clearly shows the test statistic is not in the rejection region and therefore \n",
    "we fail to reject the null, so it may be true that the age distribution of those who survived on the titanic on average is \n",
    "lower than those who died on the titanic."
   ]
  }
 ],
 "metadata": {
  "kernelspec": {
   "display_name": "Python 3 (ipykernel)",
   "language": "python",
   "name": "python3"
  },
  "language_info": {
   "codemirror_mode": {
    "name": "ipython",
    "version": 3
   },
   "file_extension": ".py",
   "mimetype": "text/x-python",
   "name": "python",
   "nbconvert_exporter": "python",
   "pygments_lexer": "ipython3",
   "version": "3.9.7"
  }
 },
 "nbformat": 4,
 "nbformat_minor": 5
}
